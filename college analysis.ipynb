{
 "cells": [
  {
   "cell_type": "code",
   "execution_count": 1,
   "id": "62d95158",
   "metadata": {},
   "outputs": [
    {
     "name": "stderr",
     "output_type": "stream",
     "text": [
      "C:\\Users\\chris\\anaconda3\\lib\\site-packages\\pandas\\core\\computation\\expressions.py:21: UserWarning: Pandas requires version '2.8.4' or newer of 'numexpr' (version '2.8.3' currently installed).\n",
      "  from pandas.core.computation.check import NUMEXPR_INSTALLED\n",
      "C:\\Users\\chris\\anaconda3\\lib\\site-packages\\pandas\\core\\arrays\\masked.py:60: UserWarning: Pandas requires version '1.3.6' or newer of 'bottleneck' (version '1.3.5' currently installed).\n",
      "  from pandas.core import (\n"
     ]
    }
   ],
   "source": [
    "import pandas as pd\n",
    "import numpy as np\n",
    "import matplotlib as plt\n",
    "import seaborn as sns"
   ]
  },
  {
   "cell_type": "code",
   "execution_count": 75,
   "id": "2b18a961",
   "metadata": {},
   "outputs": [],
   "source": [
    "df=pd.read_csv(\"eng_college.csv\")\n",
    "df = df.rename(columns={'Ranking': 'Teaching'})"
   ]
  },
  {
   "cell_type": "code",
   "execution_count": 76,
   "id": "f9926f73",
   "metadata": {},
   "outputs": [
    {
     "data": {
      "text/html": [
       "<div>\n",
       "<style scoped>\n",
       "    .dataframe tbody tr th:only-of-type {\n",
       "        vertical-align: middle;\n",
       "    }\n",
       "\n",
       "    .dataframe tbody tr th {\n",
       "        vertical-align: top;\n",
       "    }\n",
       "\n",
       "    .dataframe thead th {\n",
       "        text-align: right;\n",
       "    }\n",
       "</style>\n",
       "<table border=\"1\" class=\"dataframe\">\n",
       "  <thead>\n",
       "    <tr style=\"text-align: right;\">\n",
       "      <th></th>\n",
       "      <th>College</th>\n",
       "      <th>Teaching</th>\n",
       "      <th>Training Quality</th>\n",
       "      <th>Fees</th>\n",
       "      <th>Placement</th>\n",
       "      <th>Internship Quality</th>\n",
       "      <th>Infrastructure</th>\n",
       "    </tr>\n",
       "  </thead>\n",
       "  <tbody>\n",
       "    <tr>\n",
       "      <th>0</th>\n",
       "      <td>College_1</td>\n",
       "      <td>5</td>\n",
       "      <td>2</td>\n",
       "      <td>4</td>\n",
       "      <td>5</td>\n",
       "      <td>5</td>\n",
       "      <td>2</td>\n",
       "    </tr>\n",
       "    <tr>\n",
       "      <th>1</th>\n",
       "      <td>College_2</td>\n",
       "      <td>2</td>\n",
       "      <td>2</td>\n",
       "      <td>1</td>\n",
       "      <td>1</td>\n",
       "      <td>2</td>\n",
       "      <td>4</td>\n",
       "    </tr>\n",
       "    <tr>\n",
       "      <th>2</th>\n",
       "      <td>College_3</td>\n",
       "      <td>4</td>\n",
       "      <td>4</td>\n",
       "      <td>3</td>\n",
       "      <td>1</td>\n",
       "      <td>1</td>\n",
       "      <td>1</td>\n",
       "    </tr>\n",
       "    <tr>\n",
       "      <th>3</th>\n",
       "      <td>College_4</td>\n",
       "      <td>4</td>\n",
       "      <td>3</td>\n",
       "      <td>1</td>\n",
       "      <td>2</td>\n",
       "      <td>4</td>\n",
       "      <td>3</td>\n",
       "    </tr>\n",
       "    <tr>\n",
       "      <th>4</th>\n",
       "      <td>College_5</td>\n",
       "      <td>3</td>\n",
       "      <td>1</td>\n",
       "      <td>1</td>\n",
       "      <td>5</td>\n",
       "      <td>2</td>\n",
       "      <td>3</td>\n",
       "    </tr>\n",
       "  </tbody>\n",
       "</table>\n",
       "</div>"
      ],
      "text/plain": [
       "     College  Teaching  Training Quality  Fees  Placement  Internship Quality  \\\n",
       "0  College_1         5                 2     4          5                   5   \n",
       "1  College_2         2                 2     1          1                   2   \n",
       "2  College_3         4                 4     3          1                   1   \n",
       "3  College_4         4                 3     1          2                   4   \n",
       "4  College_5         3                 1     1          5                   2   \n",
       "\n",
       "   Infrastructure  \n",
       "0               2  \n",
       "1               4  \n",
       "2               1  \n",
       "3               3  \n",
       "4               3  "
      ]
     },
     "execution_count": 76,
     "metadata": {},
     "output_type": "execute_result"
    }
   ],
   "source": [
    "df.head()"
   ]
  },
  {
   "cell_type": "code",
   "execution_count": 77,
   "id": "9f450b4d",
   "metadata": {},
   "outputs": [
    {
     "data": {
      "text/plain": [
       "(1000, 7)"
      ]
     },
     "execution_count": 77,
     "metadata": {},
     "output_type": "execute_result"
    }
   ],
   "source": [
    "df.shape"
   ]
  },
  {
   "cell_type": "code",
   "execution_count": 78,
   "id": "59a9c819",
   "metadata": {},
   "outputs": [
    {
     "name": "stdout",
     "output_type": "stream",
     "text": [
      "<class 'pandas.core.frame.DataFrame'>\n",
      "RangeIndex: 1000 entries, 0 to 999\n",
      "Data columns (total 7 columns):\n",
      " #   Column              Non-Null Count  Dtype \n",
      "---  ------              --------------  ----- \n",
      " 0   College             1000 non-null   object\n",
      " 1   Teaching            1000 non-null   int64 \n",
      " 2   Training Quality    1000 non-null   int64 \n",
      " 3   Fees                1000 non-null   int64 \n",
      " 4   Placement           1000 non-null   int64 \n",
      " 5   Internship Quality  1000 non-null   int64 \n",
      " 6   Infrastructure      1000 non-null   int64 \n",
      "dtypes: int64(6), object(1)\n",
      "memory usage: 54.8+ KB\n"
     ]
    }
   ],
   "source": [
    "df.info()"
   ]
  },
  {
   "cell_type": "code",
   "execution_count": 79,
   "id": "ba50b475",
   "metadata": {},
   "outputs": [
    {
     "data": {
      "text/html": [
       "<div>\n",
       "<style scoped>\n",
       "    .dataframe tbody tr th:only-of-type {\n",
       "        vertical-align: middle;\n",
       "    }\n",
       "\n",
       "    .dataframe tbody tr th {\n",
       "        vertical-align: top;\n",
       "    }\n",
       "\n",
       "    .dataframe thead th {\n",
       "        text-align: right;\n",
       "    }\n",
       "</style>\n",
       "<table border=\"1\" class=\"dataframe\">\n",
       "  <thead>\n",
       "    <tr style=\"text-align: right;\">\n",
       "      <th></th>\n",
       "      <th>Teaching</th>\n",
       "      <th>Training Quality</th>\n",
       "      <th>Fees</th>\n",
       "      <th>Placement</th>\n",
       "      <th>Internship Quality</th>\n",
       "      <th>Infrastructure</th>\n",
       "    </tr>\n",
       "  </thead>\n",
       "  <tbody>\n",
       "    <tr>\n",
       "      <th>count</th>\n",
       "      <td>1000.000000</td>\n",
       "      <td>1000.00000</td>\n",
       "      <td>1000.00000</td>\n",
       "      <td>1000.000000</td>\n",
       "      <td>1000.000000</td>\n",
       "      <td>1000.000000</td>\n",
       "    </tr>\n",
       "    <tr>\n",
       "      <th>mean</th>\n",
       "      <td>3.011000</td>\n",
       "      <td>2.92700</td>\n",
       "      <td>2.94700</td>\n",
       "      <td>3.009000</td>\n",
       "      <td>3.006000</td>\n",
       "      <td>2.977000</td>\n",
       "    </tr>\n",
       "    <tr>\n",
       "      <th>std</th>\n",
       "      <td>1.432806</td>\n",
       "      <td>1.42327</td>\n",
       "      <td>1.39504</td>\n",
       "      <td>1.393147</td>\n",
       "      <td>1.433185</td>\n",
       "      <td>1.427063</td>\n",
       "    </tr>\n",
       "    <tr>\n",
       "      <th>min</th>\n",
       "      <td>1.000000</td>\n",
       "      <td>1.00000</td>\n",
       "      <td>1.00000</td>\n",
       "      <td>1.000000</td>\n",
       "      <td>1.000000</td>\n",
       "      <td>1.000000</td>\n",
       "    </tr>\n",
       "    <tr>\n",
       "      <th>25%</th>\n",
       "      <td>2.000000</td>\n",
       "      <td>2.00000</td>\n",
       "      <td>2.00000</td>\n",
       "      <td>2.000000</td>\n",
       "      <td>2.000000</td>\n",
       "      <td>2.000000</td>\n",
       "    </tr>\n",
       "    <tr>\n",
       "      <th>50%</th>\n",
       "      <td>3.000000</td>\n",
       "      <td>3.00000</td>\n",
       "      <td>3.00000</td>\n",
       "      <td>3.000000</td>\n",
       "      <td>3.000000</td>\n",
       "      <td>3.000000</td>\n",
       "    </tr>\n",
       "    <tr>\n",
       "      <th>75%</th>\n",
       "      <td>4.000000</td>\n",
       "      <td>4.00000</td>\n",
       "      <td>4.00000</td>\n",
       "      <td>4.000000</td>\n",
       "      <td>4.000000</td>\n",
       "      <td>4.000000</td>\n",
       "    </tr>\n",
       "    <tr>\n",
       "      <th>max</th>\n",
       "      <td>5.000000</td>\n",
       "      <td>5.00000</td>\n",
       "      <td>5.00000</td>\n",
       "      <td>5.000000</td>\n",
       "      <td>5.000000</td>\n",
       "      <td>5.000000</td>\n",
       "    </tr>\n",
       "  </tbody>\n",
       "</table>\n",
       "</div>"
      ],
      "text/plain": [
       "          Teaching  Training Quality        Fees    Placement  \\\n",
       "count  1000.000000        1000.00000  1000.00000  1000.000000   \n",
       "mean      3.011000           2.92700     2.94700     3.009000   \n",
       "std       1.432806           1.42327     1.39504     1.393147   \n",
       "min       1.000000           1.00000     1.00000     1.000000   \n",
       "25%       2.000000           2.00000     2.00000     2.000000   \n",
       "50%       3.000000           3.00000     3.00000     3.000000   \n",
       "75%       4.000000           4.00000     4.00000     4.000000   \n",
       "max       5.000000           5.00000     5.00000     5.000000   \n",
       "\n",
       "       Internship Quality  Infrastructure  \n",
       "count         1000.000000     1000.000000  \n",
       "mean             3.006000        2.977000  \n",
       "std              1.433185        1.427063  \n",
       "min              1.000000        1.000000  \n",
       "25%              2.000000        2.000000  \n",
       "50%              3.000000        3.000000  \n",
       "75%              4.000000        4.000000  \n",
       "max              5.000000        5.000000  "
      ]
     },
     "execution_count": 79,
     "metadata": {},
     "output_type": "execute_result"
    }
   ],
   "source": [
    "df.describe()"
   ]
  },
  {
   "cell_type": "raw",
   "id": "d717a04c",
   "metadata": {},
   "source": [
    "From the above std shows there is variance in the each of the cloumns which says there is a chnage in the quality of the offer providing by each college"
   ]
  },
  {
   "cell_type": "code",
   "execution_count": 80,
   "id": "65782ef6",
   "metadata": {},
   "outputs": [
    {
     "data": {
      "text/plain": [
       "College               0\n",
       "Teaching              0\n",
       "Training Quality      0\n",
       "Fees                  0\n",
       "Placement             0\n",
       "Internship Quality    0\n",
       "Infrastructure        0\n",
       "dtype: int64"
      ]
     },
     "execution_count": 80,
     "metadata": {},
     "output_type": "execute_result"
    }
   ],
   "source": [
    "df.isnull().sum()"
   ]
  },
  {
   "cell_type": "code",
   "execution_count": 81,
   "id": "d6fda9ff",
   "metadata": {},
   "outputs": [
    {
     "data": {
      "text/plain": [
       "0"
      ]
     },
     "execution_count": 81,
     "metadata": {},
     "output_type": "execute_result"
    }
   ],
   "source": [
    "df.duplicated().sum()"
   ]
  },
  {
   "cell_type": "code",
   "execution_count": 82,
   "id": "71b9f6b2",
   "metadata": {},
   "outputs": [],
   "source": [
    "#The data looks clean and great we look for visualization"
   ]
  },
  {
   "cell_type": "markdown",
   "id": "d7b0e789",
   "metadata": {},
   "source": [
    "# Data visualization"
   ]
  },
  {
   "cell_type": "code",
   "execution_count": 89,
   "id": "10101409",
   "metadata": {},
   "outputs": [
    {
     "data": {
      "text/plain": [
       "<Axes: xlabel='Teaching', ylabel='count'>"
      ]
     },
     "execution_count": 89,
     "metadata": {},
     "output_type": "execute_result"
    },
    {
     "data": {
      "image/png": "[encoded data removed]",
      "text/plain": [
       "<Figure size 640x480 with 1 Axes>"
      ]
     },
     "metadata": {},
     "output_type": "display_data"
    }
   ],
   "source": [
    "sns.countplot(data=df, x='Teaching', palette='viridis')"
   ]
  },
  {
   "cell_type": "code",
   "execution_count": 84,
   "id": "9648c625",
   "metadata": {},
   "outputs": [
    {
     "data": {
      "text/plain": [
       "<Axes: xlabel='Training Quality', ylabel='count'>"
      ]
     },
     "execution_count": 84,
     "metadata": {},
     "output_type": "execute_result"
    },
    {
     "data": {
      "image/png": "[encoded data removed]",
      "text/plain": [
       "<Figure size 640x480 with 1 Axes>"
      ]
     },
     "metadata": {},
     "output_type": "display_data"
    }
   ],
   "source": [
    "sns.countplot(data=df, x='Training Quality', palette='magma')"
   ]
  },
  {
   "cell_type": "code",
   "execution_count": 85,
   "id": "c25dc453",
   "metadata": {},
   "outputs": [
    {
     "data": {
      "text/plain": [
       "<Axes: xlabel='Fees', ylabel='count'>"
      ]
     },
     "execution_count": 85,
     "metadata": {},
     "output_type": "execute_result"
    },
    {
     "data": {
      "image/png": "[encoded data removed]",
      "text/plain": [
       "<Figure size 640x480 with 1 Axes>"
      ]
     },
     "metadata": {},
     "output_type": "display_data"
    }
   ],
   "source": [
    "sns.countplot(data=df, x='Fees', palette='plasma')"
   ]
  },
  {
   "cell_type": "code",
   "execution_count": 86,
   "id": "f36b8cd2",
   "metadata": {},
   "outputs": [
    {
     "data": {
      "text/plain": [
       "<Axes: xlabel='Placement', ylabel='count'>"
      ]
     },
     "execution_count": 86,
     "metadata": {},
     "output_type": "execute_result"
    },
    {
     "data": {
      "image/png": "[encoded data removed]",
      "text/plain": [
       "<Figure size 640x480 with 1 Axes>"
      ]
     },
     "metadata": {},
     "output_type": "display_data"
    }
   ],
   "source": [
    "sns.countplot(data=df, x='Placement', palette='inferno')"
   ]
  },
  {
   "cell_type": "code",
   "execution_count": 91,
   "id": "74071c7b",
   "metadata": {},
   "outputs": [],
   "source": [
    "from scipy.cluster.hierarchy import dendrogram, linkage"
   ]
  },
  {
   "cell_type": "code",
   "execution_count": 92,
   "id": "b605fdf0",
   "metadata": {},
   "outputs": [
    {
     "data": {
      "text/plain": [
       "array([[   0.        ,  106.        ,    0.        ,    2.        ],\n",
       "       [   2.        ,  418.        ,    0.        ,    2.        ],\n",
       "       [ 567.        ,  609.        ,    0.        ,    2.        ],\n",
       "       ...,\n",
       "       [1992.        , 1995.        ,    8.24621125,  427.        ],\n",
       "       [1993.        , 1994.        ,    8.54400375,  573.        ],\n",
       "       [1996.        , 1997.        ,    8.94427191, 1000.        ]])"
      ]
     },
     "execution_count": 92,
     "metadata": {},
     "output_type": "execute_result"
    }
   ],
   "source": [
    "link_method=linkage(df.iloc[:,1:6],method='complete')\n",
    "link_method"
   ]
  },
  {
   "cell_type": "code",
   "execution_count": 93,
   "id": "d1d65a9c",
   "metadata": {},
   "outputs": [],
   "source": [
    "labelist=np.array(df.College)"
   ]
  },
  {
   "cell_type": "code",
   "execution_count": 94,
   "id": "7b4b1201",
   "metadata": {},
   "outputs": [
    {
     "data": {
      "image/png": "[encoded data removed]",
      "text/plain": [
       "<Figure size 640x480 with 1 Axes>"
      ]
     },
     "metadata": {},
     "output_type": "display_data"
    }
   ],
   "source": [
    "dend=dendrogram(link_method,labels=labellist)"
   ]
  },
  {
   "cell_type": "markdown",
   "id": "3ff8b05f",
   "metadata": {},
   "source": [
    "# Cutting the dendogram"
   ]
  },
  {
   "cell_type": "code",
   "execution_count": 95,
   "id": "36d19cf6",
   "metadata": {},
   "outputs": [
    {
     "data": {
      "image/png": "[encoded data removed]",
      "text/plain": [
       "<Figure size 640x480 with 1 Axes>"
      ]
     },
     "metadata": {},
     "output_type": "display_data"
    }
   ],
   "source": [
    "dend=dendrogram(link_method,\n",
    "               truncate_mode='lastp',\n",
    "               p=15,\n",
    "               labels=labellist)"
   ]
  },
  {
   "cell_type": "code",
   "execution_count": 96,
   "id": "3d91cee1",
   "metadata": {},
   "outputs": [
    {
     "data": {
      "image/png": "[encoded data removed]",
      "text/plain": [
       "<Figure size 1500x500 with 2 Axes>"
      ]
     },
     "metadata": {},
     "output_type": "display_data"
    }
   ],
   "source": [
    "plt.figure(figsize=(15,5))\n",
    "plt.subplot(1,2,1)\n",
    "dend1=dendrogram(link_method,labels=labellist)\n",
    "plt.subplot(1,2,2)\n",
    "dend2=dendrogram(link_method,truncate_mode='lastp',p=15,labels=labelist)\n",
    "plt.show()"
   ]
  },
  {
   "cell_type": "raw",
   "id": "24937606",
   "metadata": {},
   "source": [
    "By comparing we can clearly see that before the clustering the data is vast and afte heirarchial clustering the data is clustered into 15 parts"
   ]
  },
  {
   "cell_type": "raw",
   "id": "a32cf767",
   "metadata": {},
   "source": [
    "The data points also grouped int clusters and formed as 15 clusters as the parameters"
   ]
  },
  {
   "cell_type": "code",
   "execution_count": 97,
   "id": "404dd403",
   "metadata": {},
   "outputs": [],
   "source": [
    "from scipy.cluster.hierarchy import fcluster"
   ]
  },
  {
   "cell_type": "code",
   "execution_count": 98,
   "id": "441acf49",
   "metadata": {},
   "outputs": [],
   "source": [
    "cluster=fcluster(link_method,3,criterion=\"maxclust\")"
   ]
  },
  {
   "cell_type": "code",
   "execution_count": 99,
   "id": "d49a80d4",
   "metadata": {},
   "outputs": [
    {
     "data": {
      "text/plain": [
       "array([3, 1, 1, 3, 2, 1, 3, 1, 2, 1, 1, 1, 2, 3, 3, 1, 3, 3, 1, 1, 3, 2,\n",
       "       1, 1, 3, 3, 2, 3, 3, 3, 2, 2, 3, 2, 1, 2, 3, 2, 1, 1, 3, 2, 1, 1,\n",
       "       2, 1, 3, 2, 3, 1, 2, 2, 3, 3, 1, 2, 3, 3, 1, 3, 2, 3, 3, 3, 1, 1,\n",
       "       2, 1, 1, 1, 1, 3, 2, 1, 3, 3, 1, 2, 3, 2, 1, 1, 1, 2, 1, 2, 2, 1,\n",
       "       3, 1, 1, 3, 1, 1, 3, 1, 2, 2, 2, 1, 3, 3, 3, 1, 1, 2, 3, 3, 2, 3,\n",
       "       2, 2, 1, 1, 1, 3, 1, 3, 1, 3, 3, 3, 1, 2, 3, 2, 3, 1, 1, 1, 1, 1,\n",
       "       1, 1, 2, 3, 1, 1, 1, 3, 3, 1, 3, 1, 1, 2, 2, 3, 2, 2, 1, 3, 2, 3,\n",
       "       3, 1, 3, 3, 2, 3, 3, 3, 3, 2, 3, 1, 2, 3, 2, 2, 3, 1, 1, 1, 1, 1,\n",
       "       3, 3, 3, 1, 3, 3, 1, 3, 2, 3, 2, 2, 1, 2, 1, 2, 1, 3, 1, 3, 2, 1,\n",
       "       2, 3, 3, 1, 1, 1, 1, 3, 1, 1, 1, 1, 3, 3, 1, 1, 2, 1, 3, 1, 2, 1,\n",
       "       3, 3, 1, 1, 2, 3, 1, 1, 2, 3, 3, 2, 1, 3, 2, 2, 2, 1, 1, 1, 2, 3,\n",
       "       1, 1, 1, 2, 2, 3, 2, 3, 1, 1, 1, 1, 2, 2, 3, 3, 1, 1, 3, 1, 1, 1,\n",
       "       2, 3, 1, 2, 2, 1, 3, 2, 2, 2, 1, 1, 1, 1, 1, 3, 2, 1, 3, 3, 3, 1,\n",
       "       2, 2, 3, 2, 1, 3, 2, 1, 1, 3, 1, 1, 1, 1, 2, 3, 2, 3, 3, 1, 1, 1,\n",
       "       2, 2, 3, 3, 3, 2, 1, 1, 1, 3, 1, 1, 3, 1, 3, 1, 3, 3, 1, 3, 1, 3,\n",
       "       2, 1, 3, 3, 3, 2, 1, 3, 1, 3, 3, 2, 3, 1, 1, 2, 1, 1, 3, 2, 3, 2,\n",
       "       1, 3, 3, 1, 2, 1, 3, 2, 1, 3, 2, 2, 2, 1, 3, 1, 3, 1, 1, 1, 1, 3,\n",
       "       1, 1, 2, 1, 1, 3, 1, 2, 1, 2, 1, 2, 3, 2, 2, 3, 2, 1, 3, 3, 2, 3,\n",
       "       2, 1, 1, 1, 3, 2, 3, 2, 3, 1, 3, 3, 1, 3, 1, 3, 2, 2, 1, 1, 1, 2,\n",
       "       1, 1, 3, 3, 2, 3, 1, 1, 3, 3, 3, 3, 3, 1, 3, 2, 2, 2, 2, 2, 2, 1,\n",
       "       3, 2, 1, 1, 3, 1, 1, 3, 2, 1, 1, 3, 3, 1, 3, 1, 1, 1, 1, 1, 3, 1,\n",
       "       1, 1, 3, 3, 1, 1, 1, 3, 2, 1, 1, 3, 1, 3, 2, 1, 2, 2, 3, 3, 1, 1,\n",
       "       1, 3, 2, 1, 2, 2, 3, 3, 1, 2, 1, 1, 3, 3, 1, 3, 3, 3, 1, 2, 1, 2,\n",
       "       2, 3, 1, 3, 3, 3, 3, 1, 1, 2, 1, 2, 1, 3, 1, 1, 1, 1, 2, 2, 2, 1,\n",
       "       3, 1, 1, 1, 1, 1, 3, 1, 1, 1, 3, 1, 2, 2, 3, 3, 1, 2, 1, 3, 3, 1,\n",
       "       2, 2, 1, 1, 2, 1, 3, 2, 1, 3, 1, 3, 2, 3, 3, 1, 1, 2, 1, 1, 3, 1,\n",
       "       2, 1, 1, 1, 2, 2, 2, 1, 1, 2, 2, 2, 2, 3, 1, 3, 1, 2, 2, 1, 1, 1,\n",
       "       1, 2, 2, 3, 2, 1, 1, 2, 3, 2, 1, 3, 1, 1, 1, 2, 1, 2, 1, 1, 3, 1,\n",
       "       1, 1, 1, 1, 1, 3, 3, 1, 2, 3, 1, 1, 1, 1, 1, 3, 2, 3, 2, 3, 2, 2,\n",
       "       3, 1, 2, 2, 2, 1, 1, 1, 2, 1, 3, 1, 1, 1, 2, 2, 1, 3, 1, 1, 3, 1,\n",
       "       1, 2, 1, 2, 2, 2, 1, 3, 2, 3, 1, 2, 1, 2, 2, 3, 3, 1, 3, 1, 3, 2,\n",
       "       1, 2, 2, 2, 2, 3, 3, 1, 3, 3, 2, 2, 1, 2, 1, 1, 1, 3, 1, 1, 3, 2,\n",
       "       2, 2, 3, 3, 2, 2, 1, 3, 3, 1, 3, 2, 1, 1, 1, 1, 2, 1, 2, 1, 2, 1,\n",
       "       1, 3, 2, 1, 3, 3, 3, 1, 2, 2, 1, 1, 3, 1, 3, 3, 1, 1, 3, 3, 1, 1,\n",
       "       3, 2, 3, 3, 1, 1, 2, 1, 2, 3, 3, 3, 3, 3, 2, 1, 1, 3, 2, 2, 2, 3,\n",
       "       1, 2, 3, 3, 3, 3, 2, 3, 1, 1, 1, 3, 3, 2, 1, 2, 1, 3, 1, 1, 3, 1,\n",
       "       1, 1, 1, 3, 2, 1, 2, 3, 2, 3, 1, 3, 2, 2, 3, 2, 2, 3, 2, 3, 3, 2,\n",
       "       2, 2, 1, 3, 2, 3, 2, 1, 1, 1, 3, 3, 2, 2, 2, 1, 1, 3, 2, 3, 1, 3,\n",
       "       1, 3, 3, 1, 1, 3, 1, 2, 1, 3, 2, 1, 1, 2, 1, 3, 1, 3, 1, 1, 2, 3,\n",
       "       1, 2, 1, 3, 2, 2, 2, 1, 1, 2, 2, 1, 3, 1, 2, 3, 3, 3, 2, 2, 1, 1,\n",
       "       1, 1, 1, 2, 1, 3, 1, 3, 3, 1, 3, 3, 1, 1, 2, 1, 2, 1, 1, 1, 1, 1,\n",
       "       3, 3, 1, 1, 1, 3, 1, 1, 3, 1, 2, 1, 3, 3, 1, 3, 1, 3, 1, 1, 3, 1,\n",
       "       1, 2, 3, 1, 2, 1, 2, 1, 3, 1, 1, 1, 2, 2, 1, 3, 1, 1, 3, 1, 1, 3,\n",
       "       2, 1, 3, 2, 3, 3, 1, 1, 1, 2, 1, 3, 1, 1, 3, 1, 3, 1, 1, 1, 3, 2,\n",
       "       2, 2, 1, 1, 3, 3, 1, 1, 1, 1, 2, 1, 1, 3, 2, 2, 2, 2, 3, 2, 1, 2,\n",
       "       1, 1, 2, 2, 1, 2, 2, 1, 1, 2], dtype=int32)"
      ]
     },
     "execution_count": 99,
     "metadata": {},
     "output_type": "execute_result"
    }
   ],
   "source": [
    "cluster"
   ]
  },
  {
   "cell_type": "code",
   "execution_count": 100,
   "id": "9c335a5e",
   "metadata": {},
   "outputs": [],
   "source": [
    "df['clusters']=cluster"
   ]
  },
  {
   "cell_type": "code",
   "execution_count": 101,
   "id": "d56c3fc0",
   "metadata": {},
   "outputs": [
    {
     "data": {
      "text/html": [
       "<div>\n",
       "<style scoped>\n",
       "    .dataframe tbody tr th:only-of-type {\n",
       "        vertical-align: middle;\n",
       "    }\n",
       "\n",
       "    .dataframe tbody tr th {\n",
       "        vertical-align: top;\n",
       "    }\n",
       "\n",
       "    .dataframe thead th {\n",
       "        text-align: right;\n",
       "    }\n",
       "</style>\n",
       "<table border=\"1\" class=\"dataframe\">\n",
       "  <thead>\n",
       "    <tr style=\"text-align: right;\">\n",
       "      <th></th>\n",
       "      <th>College</th>\n",
       "      <th>Teaching</th>\n",
       "      <th>Training Quality</th>\n",
       "      <th>Fees</th>\n",
       "      <th>Placement</th>\n",
       "      <th>Internship Quality</th>\n",
       "      <th>Infrastructure</th>\n",
       "      <th>clusters</th>\n",
       "    </tr>\n",
       "  </thead>\n",
       "  <tbody>\n",
       "    <tr>\n",
       "      <th>0</th>\n",
       "      <td>College_1</td>\n",
       "      <td>5</td>\n",
       "      <td>2</td>\n",
       "      <td>4</td>\n",
       "      <td>5</td>\n",
       "      <td>5</td>\n",
       "      <td>2</td>\n",
       "      <td>3</td>\n",
       "    </tr>\n",
       "    <tr>\n",
       "      <th>1</th>\n",
       "      <td>College_2</td>\n",
       "      <td>2</td>\n",
       "      <td>2</td>\n",
       "      <td>1</td>\n",
       "      <td>1</td>\n",
       "      <td>2</td>\n",
       "      <td>4</td>\n",
       "      <td>1</td>\n",
       "    </tr>\n",
       "    <tr>\n",
       "      <th>2</th>\n",
       "      <td>College_3</td>\n",
       "      <td>4</td>\n",
       "      <td>4</td>\n",
       "      <td>3</td>\n",
       "      <td>1</td>\n",
       "      <td>1</td>\n",
       "      <td>1</td>\n",
       "      <td>1</td>\n",
       "    </tr>\n",
       "    <tr>\n",
       "      <th>3</th>\n",
       "      <td>College_4</td>\n",
       "      <td>4</td>\n",
       "      <td>3</td>\n",
       "      <td>1</td>\n",
       "      <td>2</td>\n",
       "      <td>4</td>\n",
       "      <td>3</td>\n",
       "      <td>3</td>\n",
       "    </tr>\n",
       "    <tr>\n",
       "      <th>4</th>\n",
       "      <td>College_5</td>\n",
       "      <td>3</td>\n",
       "      <td>1</td>\n",
       "      <td>1</td>\n",
       "      <td>5</td>\n",
       "      <td>2</td>\n",
       "      <td>3</td>\n",
       "      <td>2</td>\n",
       "    </tr>\n",
       "  </tbody>\n",
       "</table>\n",
       "</div>"
      ],
      "text/plain": [
       "     College  Teaching  Training Quality  Fees  Placement  Internship Quality  \\\n",
       "0  College_1         5                 2     4          5                   5   \n",
       "1  College_2         2                 2     1          1                   2   \n",
       "2  College_3         4                 4     3          1                   1   \n",
       "3  College_4         4                 3     1          2                   4   \n",
       "4  College_5         3                 1     1          5                   2   \n",
       "\n",
       "   Infrastructure  clusters  \n",
       "0               2         3  \n",
       "1               4         1  \n",
       "2               1         1  \n",
       "3               3         3  \n",
       "4               3         2  "
      ]
     },
     "execution_count": 101,
     "metadata": {},
     "output_type": "execute_result"
    }
   ],
   "source": [
    "df.head()"
   ]
  },
  {
   "cell_type": "code",
   "execution_count": 102,
   "id": "3a3d9826",
   "metadata": {},
   "outputs": [
    {
     "data": {
      "text/plain": [
       "clusters\n",
       "1    427\n",
       "2    264\n",
       "3    309\n",
       "Name: count, dtype: int64"
      ]
     },
     "execution_count": 102,
     "metadata": {},
     "output_type": "execute_result"
    }
   ],
   "source": [
    "df.clusters.value_counts().sort_index()"
   ]
  },
  {
   "cell_type": "code",
   "execution_count": 103,
   "id": "a33edb3d",
   "metadata": {},
   "outputs": [
    {
     "data": {
      "text/html": [
       "<div>\n",
       "<style scoped>\n",
       "    .dataframe tbody tr th:only-of-type {\n",
       "        vertical-align: middle;\n",
       "    }\n",
       "\n",
       "    .dataframe tbody tr th {\n",
       "        vertical-align: top;\n",
       "    }\n",
       "\n",
       "    .dataframe thead th {\n",
       "        text-align: right;\n",
       "    }\n",
       "</style>\n",
       "<table border=\"1\" class=\"dataframe\">\n",
       "  <thead>\n",
       "    <tr style=\"text-align: right;\">\n",
       "      <th></th>\n",
       "      <th>Teaching</th>\n",
       "      <th>Training Quality</th>\n",
       "      <th>Fees</th>\n",
       "      <th>Placement</th>\n",
       "      <th>Internship Quality</th>\n",
       "      <th>Infrastructure</th>\n",
       "      <th>Freq</th>\n",
       "    </tr>\n",
       "    <tr>\n",
       "      <th>clusters</th>\n",
       "      <th></th>\n",
       "      <th></th>\n",
       "      <th></th>\n",
       "      <th></th>\n",
       "      <th></th>\n",
       "      <th></th>\n",
       "      <th></th>\n",
       "    </tr>\n",
       "  </thead>\n",
       "  <tbody>\n",
       "    <tr>\n",
       "      <th>1</th>\n",
       "      <td>3.189696</td>\n",
       "      <td>3.222482</td>\n",
       "      <td>2.873536</td>\n",
       "      <td>2.779859</td>\n",
       "      <td>1.817330</td>\n",
       "      <td>3.000000</td>\n",
       "      <td>427</td>\n",
       "    </tr>\n",
       "    <tr>\n",
       "      <th>2</th>\n",
       "      <td>1.871212</td>\n",
       "      <td>1.912879</td>\n",
       "      <td>2.886364</td>\n",
       "      <td>3.469697</td>\n",
       "      <td>3.507576</td>\n",
       "      <td>2.920455</td>\n",
       "      <td>264</td>\n",
       "    </tr>\n",
       "    <tr>\n",
       "      <th>3</th>\n",
       "      <td>3.737864</td>\n",
       "      <td>3.385113</td>\n",
       "      <td>3.100324</td>\n",
       "      <td>2.932039</td>\n",
       "      <td>4.220065</td>\n",
       "      <td>2.993528</td>\n",
       "      <td>309</td>\n",
       "    </tr>\n",
       "  </tbody>\n",
       "</table>\n",
       "</div>"
      ],
      "text/plain": [
       "          Teaching  Training Quality      Fees  Placement  Internship Quality  \\\n",
       "clusters                                                                        \n",
       "1         3.189696          3.222482  2.873536   2.779859            1.817330   \n",
       "2         1.871212          1.912879  2.886364   3.469697            3.507576   \n",
       "3         3.737864          3.385113  3.100324   2.932039            4.220065   \n",
       "\n",
       "          Infrastructure  Freq  \n",
       "clusters                        \n",
       "1               3.000000   427  \n",
       "2               2.920455   264  \n",
       "3               2.993528   309  "
      ]
     },
     "execution_count": 103,
     "metadata": {},
     "output_type": "execute_result"
    }
   ],
   "source": [
    "aggdata=df.iloc[:,1:8].groupby('clusters').mean()\n",
    "aggdata[\"Freq\"]=df.clusters.value_counts().sort_index()\n",
    "aggdata"
   ]
  },
  {
   "cell_type": "raw",
   "id": "0e878b7c",
   "metadata": {},
   "source": [
    "The data seems to be interesting where the tier 1 college which is clustered were underperformed whith comparison to the tier 3 college which means the tier 1 college needs improvement in their performance"
   ]
  },
  {
   "cell_type": "raw",
   "id": "bb3da67d",
   "metadata": {},
   "source": [
    "Tier 3 colleges need the better marketing stratergy though the performance needs to be established towars the target customers"
   ]
  },
  {
   "cell_type": "markdown",
   "id": "c952502b",
   "metadata": {},
   "source": [
    "# Agglomerative Clustering"
   ]
  },
  {
   "cell_type": "code",
   "execution_count": 106,
   "id": "dde12f78",
   "metadata": {},
   "outputs": [],
   "source": [
    "from sklearn.cluster import AgglomerativeClustering"
   ]
  },
  {
   "cell_type": "code",
   "execution_count": 112,
   "id": "dfb1678b",
   "metadata": {},
   "outputs": [],
   "source": [
    "cluster=AgglomerativeClustering(n_clusters=4,affinity=\"euclidean\",linkage=\"average\")"
   ]
  },
  {
   "cell_type": "code",
   "execution_count": 113,
   "id": "3fc19e9d",
   "metadata": {},
   "outputs": [],
   "source": [
    "cluster_agglo=cluster.fit_predict(df.iloc[:,1:6])"
   ]
  },
  {
   "cell_type": "code",
   "execution_count": 119,
   "id": "d28a407a",
   "metadata": {},
   "outputs": [],
   "source": [
    "df['Agglo_clusters']=cluster_agglo"
   ]
  },
  {
   "cell_type": "code",
   "execution_count": 120,
   "id": "ea80c7fc",
   "metadata": {},
   "outputs": [
    {
     "data": {
      "text/plain": [
       "Agglo_clusters\n",
       "0    345\n",
       "1    173\n",
       "2    292\n",
       "3    190\n",
       "Name: count, dtype: int64"
      ]
     },
     "execution_count": 120,
     "metadata": {},
     "output_type": "execute_result"
    }
   ],
   "source": [
    "df.Agglo_clusters.value_counts().sort_index()"
   ]
  },
  {
   "cell_type": "code",
   "execution_count": 160,
   "id": "84ac6d61",
   "metadata": {},
   "outputs": [
    {
     "data": {
      "text/plain": [
       "Index(['College', 'Teaching', 'Training Quality', 'Fees', 'Placement',\n",
       "       'Internship Quality', 'Infrastructure', 'clusters', 'Agglo_clusters',\n",
       "       'Freq'],\n",
       "      dtype='object')"
      ]
     },
     "execution_count": 160,
     "metadata": {},
     "output_type": "execute_result"
    }
   ],
   "source": [
    "df.columns"
   ]
  },
  {
   "cell_type": "code",
   "execution_count": 161,
   "id": "ec472a39",
   "metadata": {},
   "outputs": [
    {
     "data": {
      "text/html": [
       "<div>\n",
       "<style scoped>\n",
       "    .dataframe tbody tr th:only-of-type {\n",
       "        vertical-align: middle;\n",
       "    }\n",
       "\n",
       "    .dataframe tbody tr th {\n",
       "        vertical-align: top;\n",
       "    }\n",
       "\n",
       "    .dataframe thead th {\n",
       "        text-align: right;\n",
       "    }\n",
       "</style>\n",
       "<table border=\"1\" class=\"dataframe\">\n",
       "  <thead>\n",
       "    <tr style=\"text-align: right;\">\n",
       "      <th></th>\n",
       "      <th>College</th>\n",
       "      <th>Teaching</th>\n",
       "      <th>Training Quality</th>\n",
       "      <th>Fees</th>\n",
       "      <th>Placement</th>\n",
       "      <th>Internship Quality</th>\n",
       "      <th>Infrastructure</th>\n",
       "      <th>clusters</th>\n",
       "      <th>Agglo_clusters</th>\n",
       "      <th>Freq</th>\n",
       "    </tr>\n",
       "  </thead>\n",
       "  <tbody>\n",
       "    <tr>\n",
       "      <th>0</th>\n",
       "      <td>College_1</td>\n",
       "      <td>5</td>\n",
       "      <td>2</td>\n",
       "      <td>4</td>\n",
       "      <td>5</td>\n",
       "      <td>5</td>\n",
       "      <td>2</td>\n",
       "      <td>3</td>\n",
       "      <td>1</td>\n",
       "      <td>NaN</td>\n",
       "    </tr>\n",
       "    <tr>\n",
       "      <th>1</th>\n",
       "      <td>College_2</td>\n",
       "      <td>2</td>\n",
       "      <td>2</td>\n",
       "      <td>1</td>\n",
       "      <td>1</td>\n",
       "      <td>2</td>\n",
       "      <td>4</td>\n",
       "      <td>1</td>\n",
       "      <td>0</td>\n",
       "      <td>NaN</td>\n",
       "    </tr>\n",
       "    <tr>\n",
       "      <th>2</th>\n",
       "      <td>College_3</td>\n",
       "      <td>4</td>\n",
       "      <td>4</td>\n",
       "      <td>3</td>\n",
       "      <td>1</td>\n",
       "      <td>1</td>\n",
       "      <td>1</td>\n",
       "      <td>1</td>\n",
       "      <td>0</td>\n",
       "      <td>NaN</td>\n",
       "    </tr>\n",
       "    <tr>\n",
       "      <th>3</th>\n",
       "      <td>College_4</td>\n",
       "      <td>4</td>\n",
       "      <td>3</td>\n",
       "      <td>1</td>\n",
       "      <td>2</td>\n",
       "      <td>4</td>\n",
       "      <td>3</td>\n",
       "      <td>3</td>\n",
       "      <td>0</td>\n",
       "      <td>NaN</td>\n",
       "    </tr>\n",
       "    <tr>\n",
       "      <th>4</th>\n",
       "      <td>College_5</td>\n",
       "      <td>3</td>\n",
       "      <td>1</td>\n",
       "      <td>1</td>\n",
       "      <td>5</td>\n",
       "      <td>2</td>\n",
       "      <td>3</td>\n",
       "      <td>2</td>\n",
       "      <td>2</td>\n",
       "      <td>292.0</td>\n",
       "    </tr>\n",
       "  </tbody>\n",
       "</table>\n",
       "</div>"
      ],
      "text/plain": [
       "     College  Teaching  Training Quality  Fees  Placement  Internship Quality  \\\n",
       "0  College_1         5                 2     4          5                   5   \n",
       "1  College_2         2                 2     1          1                   2   \n",
       "2  College_3         4                 4     3          1                   1   \n",
       "3  College_4         4                 3     1          2                   4   \n",
       "4  College_5         3                 1     1          5                   2   \n",
       "\n",
       "   Infrastructure  clusters  Agglo_clusters   Freq  \n",
       "0               2         3               1    NaN  \n",
       "1               4         1               0    NaN  \n",
       "2               1         1               0    NaN  \n",
       "3               3         3               0    NaN  \n",
       "4               3         2               2  292.0  "
      ]
     },
     "execution_count": 161,
     "metadata": {},
     "output_type": "execute_result"
    }
   ],
   "source": [
    "df.head()"
   ]
  },
  {
   "cell_type": "code",
   "execution_count": 162,
   "id": "293306ff",
   "metadata": {},
   "outputs": [],
   "source": [
    "agglo_data=df.drop('clusters',axis=1)"
   ]
  },
  {
   "cell_type": "code",
   "execution_count": null,
   "id": "b2baa161",
   "metadata": {},
   "outputs": [],
   "source": []
  },
  {
   "cell_type": "code",
   "execution_count": 158,
   "id": "0634c251",
   "metadata": {},
   "outputs": [],
   "source": [
    "agglo_data['Freq']=df.Agglo_clusters.value_counts().sort_index()"
   ]
  },
  {
   "cell_type": "raw",
   "id": "8d372a6a",
   "metadata": {},
   "source": [
    "df"
   ]
  },
  {
   "cell_type": "code",
   "execution_count": 170,
   "id": "935f0777",
   "metadata": {},
   "outputs": [],
   "source": [
    "mean_freq = df['Freq'].mean()\n",
    "\n",
    "# Fill NaN values with the mean\n",
    "df['Freq'].fillna(mean_freq, inplace=True)\n",
    "\n",
    "# Now you can calculate the mean of the filled 'Freq' column\n",
    "filled_mean_freq = df['Freq'].mean()"
   ]
  },
  {
   "cell_type": "code",
   "execution_count": 172,
   "id": "c4000f1e",
   "metadata": {},
   "outputs": [
    {
     "data": {
      "text/html": [
       "<div>\n",
       "<style scoped>\n",
       "    .dataframe tbody tr th:only-of-type {\n",
       "        vertical-align: middle;\n",
       "    }\n",
       "\n",
       "    .dataframe tbody tr th {\n",
       "        vertical-align: top;\n",
       "    }\n",
       "\n",
       "    .dataframe thead th {\n",
       "        text-align: right;\n",
       "    }\n",
       "</style>\n",
       "<table border=\"1\" class=\"dataframe\">\n",
       "  <thead>\n",
       "    <tr style=\"text-align: right;\">\n",
       "      <th></th>\n",
       "      <th>College</th>\n",
       "      <th>Teaching</th>\n",
       "      <th>Training Quality</th>\n",
       "      <th>Fees</th>\n",
       "      <th>Placement</th>\n",
       "      <th>Internship Quality</th>\n",
       "      <th>Infrastructure</th>\n",
       "      <th>clusters</th>\n",
       "      <th>Agglo_clusters</th>\n",
       "      <th>Freq</th>\n",
       "    </tr>\n",
       "  </thead>\n",
       "  <tbody>\n",
       "    <tr>\n",
       "      <th>0</th>\n",
       "      <td>College_1</td>\n",
       "      <td>5</td>\n",
       "      <td>2</td>\n",
       "      <td>4</td>\n",
       "      <td>5</td>\n",
       "      <td>5</td>\n",
       "      <td>2</td>\n",
       "      <td>3</td>\n",
       "      <td>1</td>\n",
       "      <td>292.0</td>\n",
       "    </tr>\n",
       "    <tr>\n",
       "      <th>1</th>\n",
       "      <td>College_2</td>\n",
       "      <td>2</td>\n",
       "      <td>2</td>\n",
       "      <td>1</td>\n",
       "      <td>1</td>\n",
       "      <td>2</td>\n",
       "      <td>4</td>\n",
       "      <td>1</td>\n",
       "      <td>0</td>\n",
       "      <td>292.0</td>\n",
       "    </tr>\n",
       "    <tr>\n",
       "      <th>2</th>\n",
       "      <td>College_3</td>\n",
       "      <td>4</td>\n",
       "      <td>4</td>\n",
       "      <td>3</td>\n",
       "      <td>1</td>\n",
       "      <td>1</td>\n",
       "      <td>1</td>\n",
       "      <td>1</td>\n",
       "      <td>0</td>\n",
       "      <td>292.0</td>\n",
       "    </tr>\n",
       "    <tr>\n",
       "      <th>3</th>\n",
       "      <td>College_4</td>\n",
       "      <td>4</td>\n",
       "      <td>3</td>\n",
       "      <td>1</td>\n",
       "      <td>2</td>\n",
       "      <td>4</td>\n",
       "      <td>3</td>\n",
       "      <td>3</td>\n",
       "      <td>0</td>\n",
       "      <td>292.0</td>\n",
       "    </tr>\n",
       "    <tr>\n",
       "      <th>4</th>\n",
       "      <td>College_5</td>\n",
       "      <td>3</td>\n",
       "      <td>1</td>\n",
       "      <td>1</td>\n",
       "      <td>5</td>\n",
       "      <td>2</td>\n",
       "      <td>3</td>\n",
       "      <td>2</td>\n",
       "      <td>2</td>\n",
       "      <td>292.0</td>\n",
       "    </tr>\n",
       "    <tr>\n",
       "      <th>...</th>\n",
       "      <td>...</td>\n",
       "      <td>...</td>\n",
       "      <td>...</td>\n",
       "      <td>...</td>\n",
       "      <td>...</td>\n",
       "      <td>...</td>\n",
       "      <td>...</td>\n",
       "      <td>...</td>\n",
       "      <td>...</td>\n",
       "      <td>...</td>\n",
       "    </tr>\n",
       "    <tr>\n",
       "      <th>995</th>\n",
       "      <td>College_996</td>\n",
       "      <td>2</td>\n",
       "      <td>4</td>\n",
       "      <td>5</td>\n",
       "      <td>2</td>\n",
       "      <td>5</td>\n",
       "      <td>3</td>\n",
       "      <td>2</td>\n",
       "      <td>0</td>\n",
       "      <td>292.0</td>\n",
       "    </tr>\n",
       "    <tr>\n",
       "      <th>996</th>\n",
       "      <td>College_997</td>\n",
       "      <td>2</td>\n",
       "      <td>2</td>\n",
       "      <td>5</td>\n",
       "      <td>3</td>\n",
       "      <td>2</td>\n",
       "      <td>4</td>\n",
       "      <td>2</td>\n",
       "      <td>3</td>\n",
       "      <td>292.0</td>\n",
       "    </tr>\n",
       "    <tr>\n",
       "      <th>997</th>\n",
       "      <td>College_998</td>\n",
       "      <td>3</td>\n",
       "      <td>4</td>\n",
       "      <td>2</td>\n",
       "      <td>4</td>\n",
       "      <td>1</td>\n",
       "      <td>2</td>\n",
       "      <td>1</td>\n",
       "      <td>2</td>\n",
       "      <td>292.0</td>\n",
       "    </tr>\n",
       "    <tr>\n",
       "      <th>998</th>\n",
       "      <td>College_999</td>\n",
       "      <td>5</td>\n",
       "      <td>5</td>\n",
       "      <td>4</td>\n",
       "      <td>4</td>\n",
       "      <td>2</td>\n",
       "      <td>2</td>\n",
       "      <td>1</td>\n",
       "      <td>2</td>\n",
       "      <td>292.0</td>\n",
       "    </tr>\n",
       "    <tr>\n",
       "      <th>999</th>\n",
       "      <td>College_1000</td>\n",
       "      <td>2</td>\n",
       "      <td>2</td>\n",
       "      <td>2</td>\n",
       "      <td>4</td>\n",
       "      <td>2</td>\n",
       "      <td>4</td>\n",
       "      <td>2</td>\n",
       "      <td>2</td>\n",
       "      <td>292.0</td>\n",
       "    </tr>\n",
       "  </tbody>\n",
       "</table>\n",
       "<p>1000 rows × 10 columns</p>\n",
       "</div>"
      ],
      "text/plain": [
       "          College  Teaching  Training Quality  Fees  Placement  \\\n",
       "0       College_1         5                 2     4          5   \n",
       "1       College_2         2                 2     1          1   \n",
       "2       College_3         4                 4     3          1   \n",
       "3       College_4         4                 3     1          2   \n",
       "4       College_5         3                 1     1          5   \n",
       "..            ...       ...               ...   ...        ...   \n",
       "995   College_996         2                 4     5          2   \n",
       "996   College_997         2                 2     5          3   \n",
       "997   College_998         3                 4     2          4   \n",
       "998   College_999         5                 5     4          4   \n",
       "999  College_1000         2                 2     2          4   \n",
       "\n",
       "     Internship Quality  Infrastructure  clusters  Agglo_clusters   Freq  \n",
       "0                     5               2         3               1  292.0  \n",
       "1                     2               4         1               0  292.0  \n",
       "2                     1               1         1               0  292.0  \n",
       "3                     4               3         3               0  292.0  \n",
       "4                     2               3         2               2  292.0  \n",
       "..                  ...             ...       ...             ...    ...  \n",
       "995                   5               3         2               0  292.0  \n",
       "996                   2               4         2               3  292.0  \n",
       "997                   1               2         1               2  292.0  \n",
       "998                   2               2         1               2  292.0  \n",
       "999                   2               4         2               2  292.0  \n",
       "\n",
       "[1000 rows x 10 columns]"
      ]
     },
     "execution_count": 172,
     "metadata": {},
     "output_type": "execute_result"
    }
   ],
   "source": [
    "df"
   ]
  },
  {
   "cell_type": "code",
   "execution_count": 173,
   "id": "39764c95",
   "metadata": {},
   "outputs": [],
   "source": [
    "#Therefore the tier 1 college needs imporvement in their performance to achieve the standards"
   ]
  },
  {
   "cell_type": "code",
   "execution_count": null,
   "id": "4b9ca6c5",
   "metadata": {},
   "outputs": [],
   "source": []
  }
 ],
 "metadata": {
  "kernelspec": {
   "display_name": "Python 3 (ipykernel)",
   "language": "python",
   "name": "python3"
  },
  "language_info": {
   "codemirror_mode": {
    "name": "ipython",
    "version": 3
   },
   "file_extension": ".py",
   "mimetype": "text/x-python",
   "name": "python",
   "nbconvert_exporter": "python",
   "pygments_lexer": "ipython3",
   "version": "3.9.13"
  }
 },
 "nbformat": 4,
 "nbformat_minor": 5
}
