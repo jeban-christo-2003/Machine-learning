{
 "cells": [
  {
   "cell_type": "code",
   "execution_count": 18,
   "id": "217dad58",
   "metadata": {},
   "outputs": [],
   "source": [
    "import pandas as pd\n",
    "import numpy as np"
   ]
  },
  {
   "cell_type": "code",
   "execution_count": 36,
   "id": "6f08bc3d",
   "metadata": {},
   "outputs": [],
   "source": [
    "df=pd.read_csv(\"Banking_dataset.csv\").round(2)"
   ]
  },
  {
   "cell_type": "code",
   "execution_count": 78,
   "id": "5c0aeb9b",
   "metadata": {},
   "outputs": [
    {
     "data": {
      "text/plain": [
       "(1000, 6)"
      ]
     },
     "execution_count": 78,
     "metadata": {},
     "output_type": "execute_result"
    }
   ],
   "source": [
    "df.head()\n",
    "df.shape"
   ]
  },
  {
   "cell_type": "code",
   "execution_count": 38,
   "id": "9e8f0f8a",
   "metadata": {},
   "outputs": [
    {
     "data": {
      "text/plain": [
       "Bank_ID              0\n",
       "Number_of_DD         0\n",
       "Withdrawals          0\n",
       "Deposits             0\n",
       "Branch_Area_sqft     0\n",
       "Avg_Daily_Walkins    0\n",
       "dtype: int64"
      ]
     },
     "execution_count": 38,
     "metadata": {},
     "output_type": "execute_result"
    }
   ],
   "source": [
    "df.isnull().sum()"
   ]
  },
  {
   "cell_type": "code",
   "execution_count": 39,
   "id": "5f05cc18",
   "metadata": {},
   "outputs": [
    {
     "name": "stdout",
     "output_type": "stream",
     "text": [
      "<class 'pandas.core.frame.DataFrame'>\n",
      "RangeIndex: 1000 entries, 0 to 999\n",
      "Data columns (total 6 columns):\n",
      " #   Column             Non-Null Count  Dtype\n",
      "---  ------             --------------  -----\n",
      " 0   Bank_ID            1000 non-null   int64\n",
      " 1   Number_of_DD       1000 non-null   int64\n",
      " 2   Withdrawals        1000 non-null   int64\n",
      " 3   Deposits           1000 non-null   int64\n",
      " 4   Branch_Area_sqft   1000 non-null   int64\n",
      " 5   Avg_Daily_Walkins  1000 non-null   int64\n",
      "dtypes: int64(6)\n",
      "memory usage: 47.0 KB\n"
     ]
    }
   ],
   "source": [
    "df.info()"
   ]
  },
  {
   "cell_type": "code",
   "execution_count": 40,
   "id": "5b218881",
   "metadata": {},
   "outputs": [
    {
     "data": {
      "text/html": [
       "<div>\n",
       "<style scoped>\n",
       "    .dataframe tbody tr th:only-of-type {\n",
       "        vertical-align: middle;\n",
       "    }\n",
       "\n",
       "    .dataframe tbody tr th {\n",
       "        vertical-align: top;\n",
       "    }\n",
       "\n",
       "    .dataframe thead th {\n",
       "        text-align: right;\n",
       "    }\n",
       "</style>\n",
       "<table border=\"1\" class=\"dataframe\">\n",
       "  <thead>\n",
       "    <tr style=\"text-align: right;\">\n",
       "      <th></th>\n",
       "      <th>Bank_ID</th>\n",
       "      <th>Number_of_DD</th>\n",
       "      <th>Withdrawals</th>\n",
       "      <th>Deposits</th>\n",
       "      <th>Branch_Area_sqft</th>\n",
       "      <th>Avg_Daily_Walkins</th>\n",
       "    </tr>\n",
       "  </thead>\n",
       "  <tbody>\n",
       "    <tr>\n",
       "      <th>count</th>\n",
       "      <td>1000.00</td>\n",
       "      <td>1000.00</td>\n",
       "      <td>1000.00</td>\n",
       "      <td>1000.00</td>\n",
       "      <td>1000.00</td>\n",
       "      <td>1000.00</td>\n",
       "    </tr>\n",
       "    <tr>\n",
       "      <th>mean</th>\n",
       "      <td>5.44</td>\n",
       "      <td>49.99</td>\n",
       "      <td>244.38</td>\n",
       "      <td>4977.11</td>\n",
       "      <td>2727.92</td>\n",
       "      <td>275.58</td>\n",
       "    </tr>\n",
       "    <tr>\n",
       "      <th>std</th>\n",
       "      <td>2.84</td>\n",
       "      <td>29.01</td>\n",
       "      <td>146.26</td>\n",
       "      <td>2899.33</td>\n",
       "      <td>1258.11</td>\n",
       "      <td>132.48</td>\n",
       "    </tr>\n",
       "    <tr>\n",
       "      <th>min</th>\n",
       "      <td>1.00</td>\n",
       "      <td>0.00</td>\n",
       "      <td>0.00</td>\n",
       "      <td>2.00</td>\n",
       "      <td>507.00</td>\n",
       "      <td>50.00</td>\n",
       "    </tr>\n",
       "    <tr>\n",
       "      <th>25%</th>\n",
       "      <td>3.00</td>\n",
       "      <td>25.00</td>\n",
       "      <td>116.50</td>\n",
       "      <td>2567.00</td>\n",
       "      <td>1717.25</td>\n",
       "      <td>159.00</td>\n",
       "    </tr>\n",
       "    <tr>\n",
       "      <th>50%</th>\n",
       "      <td>5.00</td>\n",
       "      <td>49.00</td>\n",
       "      <td>241.00</td>\n",
       "      <td>4942.00</td>\n",
       "      <td>2646.00</td>\n",
       "      <td>276.00</td>\n",
       "    </tr>\n",
       "    <tr>\n",
       "      <th>75%</th>\n",
       "      <td>8.00</td>\n",
       "      <td>75.25</td>\n",
       "      <td>375.00</td>\n",
       "      <td>7547.25</td>\n",
       "      <td>3793.50</td>\n",
       "      <td>394.00</td>\n",
       "    </tr>\n",
       "    <tr>\n",
       "      <th>max</th>\n",
       "      <td>10.00</td>\n",
       "      <td>99.00</td>\n",
       "      <td>499.00</td>\n",
       "      <td>9990.00</td>\n",
       "      <td>4996.00</td>\n",
       "      <td>499.00</td>\n",
       "    </tr>\n",
       "  </tbody>\n",
       "</table>\n",
       "</div>"
      ],
      "text/plain": [
       "       Bank_ID  Number_of_DD  Withdrawals  Deposits  Branch_Area_sqft  \\\n",
       "count  1000.00       1000.00      1000.00   1000.00           1000.00   \n",
       "mean      5.44         49.99       244.38   4977.11           2727.92   \n",
       "std       2.84         29.01       146.26   2899.33           1258.11   \n",
       "min       1.00          0.00         0.00      2.00            507.00   \n",
       "25%       3.00         25.00       116.50   2567.00           1717.25   \n",
       "50%       5.00         49.00       241.00   4942.00           2646.00   \n",
       "75%       8.00         75.25       375.00   7547.25           3793.50   \n",
       "max      10.00         99.00       499.00   9990.00           4996.00   \n",
       "\n",
       "       Avg_Daily_Walkins  \n",
       "count            1000.00  \n",
       "mean              275.58  \n",
       "std               132.48  \n",
       "min                50.00  \n",
       "25%               159.00  \n",
       "50%               276.00  \n",
       "75%               394.00  \n",
       "max               499.00  "
      ]
     },
     "execution_count": 40,
     "metadata": {},
     "output_type": "execute_result"
    }
   ],
   "source": [
    "df.describe().round(2)"
   ]
  },
  {
   "cell_type": "code",
   "execution_count": 48,
   "id": "a8de08cc",
   "metadata": {},
   "outputs": [
    {
     "data": {
      "text/plain": [
       "0"
      ]
     },
     "execution_count": 48,
     "metadata": {},
     "output_type": "execute_result"
    }
   ],
   "source": [
    "df.duplicated().sum()"
   ]
  },
  {
   "cell_type": "code",
   "execution_count": 41,
   "id": "60269622",
   "metadata": {},
   "outputs": [],
   "source": [
    "#The data Standard Deviation is high so the Data is unevenly Distributed"
   ]
  },
  {
   "cell_type": "code",
   "execution_count": 42,
   "id": "d978be55",
   "metadata": {},
   "outputs": [],
   "source": [
    "#since the data is unevenly distributed and S.D is high Scaling is important"
   ]
  },
  {
   "cell_type": "code",
   "execution_count": 43,
   "id": "8e748769",
   "metadata": {},
   "outputs": [
    {
     "data": {
      "text/html": [
       "<div>\n",
       "<style scoped>\n",
       "    .dataframe tbody tr th:only-of-type {\n",
       "        vertical-align: middle;\n",
       "    }\n",
       "\n",
       "    .dataframe tbody tr th {\n",
       "        vertical-align: top;\n",
       "    }\n",
       "\n",
       "    .dataframe thead th {\n",
       "        text-align: right;\n",
       "    }\n",
       "</style>\n",
       "<table border=\"1\" class=\"dataframe\">\n",
       "  <thead>\n",
       "    <tr style=\"text-align: right;\">\n",
       "      <th></th>\n",
       "      <th>Bank</th>\n",
       "      <th>DD</th>\n",
       "      <th>Withdrawals</th>\n",
       "      <th>Deposits</th>\n",
       "      <th>Branch_Area_sqft</th>\n",
       "      <th>Avg_Daily_Walkins</th>\n",
       "    </tr>\n",
       "  </thead>\n",
       "  <tbody>\n",
       "    <tr>\n",
       "      <th>0</th>\n",
       "      <td>6</td>\n",
       "      <td>57</td>\n",
       "      <td>21</td>\n",
       "      <td>968</td>\n",
       "      <td>1284</td>\n",
       "      <td>241</td>\n",
       "    </tr>\n",
       "    <tr>\n",
       "      <th>1</th>\n",
       "      <td>1</td>\n",
       "      <td>80</td>\n",
       "      <td>63</td>\n",
       "      <td>8183</td>\n",
       "      <td>1577</td>\n",
       "      <td>263</td>\n",
       "    </tr>\n",
       "    <tr>\n",
       "      <th>2</th>\n",
       "      <td>4</td>\n",
       "      <td>41</td>\n",
       "      <td>222</td>\n",
       "      <td>2512</td>\n",
       "      <td>2505</td>\n",
       "      <td>127</td>\n",
       "    </tr>\n",
       "    <tr>\n",
       "      <th>3</th>\n",
       "      <td>4</td>\n",
       "      <td>90</td>\n",
       "      <td>101</td>\n",
       "      <td>5066</td>\n",
       "      <td>1206</td>\n",
       "      <td>146</td>\n",
       "    </tr>\n",
       "    <tr>\n",
       "      <th>4</th>\n",
       "      <td>8</td>\n",
       "      <td>66</td>\n",
       "      <td>145</td>\n",
       "      <td>1935</td>\n",
       "      <td>4577</td>\n",
       "      <td>156</td>\n",
       "    </tr>\n",
       "  </tbody>\n",
       "</table>\n",
       "</div>"
      ],
      "text/plain": [
       "   Bank  DD  Withdrawals  Deposits  Branch_Area_sqft  Avg_Daily_Walkins\n",
       "0     6  57           21       968              1284                241\n",
       "1     1  80           63      8183              1577                263\n",
       "2     4  41          222      2512              2505                127\n",
       "3     4  90          101      5066              1206                146\n",
       "4     8  66          145      1935              4577                156"
      ]
     },
     "execution_count": 43,
     "metadata": {},
     "output_type": "execute_result"
    }
   ],
   "source": [
    "df = df.rename(columns={\n",
    "    'Bank_ID': 'Bank',\n",
    "    'Number_of_DD': 'DD'})\n",
    "df.head()"
   ]
  },
  {
   "cell_type": "code",
   "execution_count": 79,
   "id": "90350452",
   "metadata": {
    "scrolled": true
   },
   "outputs": [
    {
     "data": {
      "image/png": "[encoded data removed]",
      "text/plain": [
       "<Figure size 1200x600 with 1 Axes>"
      ]
     },
     "metadata": {},
     "output_type": "display_data"
    }
   ],
   "source": [
    "#Boxplot for outlier check\n",
    "import matplotlib.pyplot as plt\n",
    "\n",
    "# Assuming scaled_df is your dataset\n",
    "plt.figure(figsize=(12, 6))\n",
    "scaled_df.boxplot()\n",
    "plt.title('Boxplot of Features')\n",
    "plt.xlabel('Features')\n",
    "plt.ylabel('Values')\n",
    "plt.xticks(rotation=45)  # Rotate x-axis labels for better readability\n",
    "plt.show()\n"
   ]
  },
  {
   "cell_type": "code",
   "execution_count": 80,
   "id": "6ac17455",
   "metadata": {},
   "outputs": [],
   "source": [
    "# The data looks clean and fine great "
   ]
  },
  {
   "cell_type": "code",
   "execution_count": 30,
   "id": "2ebb02e8",
   "metadata": {},
   "outputs": [],
   "source": [
    "from sklearn.preprocessing import StandardScaler"
   ]
  },
  {
   "cell_type": "code",
   "execution_count": 31,
   "id": "fe9fb882",
   "metadata": {},
   "outputs": [],
   "source": [
    "X=StandardScaler()"
   ]
  },
  {
   "cell_type": "code",
   "execution_count": 45,
   "id": "85722b8a",
   "metadata": {},
   "outputs": [],
   "source": [
    "scaled_df=pd.DataFrame(X.fit_transform(df.iloc[:,1:6]),columns=df.columns[1:]).round(2)"
   ]
  },
  {
   "cell_type": "code",
   "execution_count": 47,
   "id": "8a224fc1",
   "metadata": {
    "scrolled": true
   },
   "outputs": [
    {
     "data": {
      "text/html": [
       "<div>\n",
       "<style scoped>\n",
       "    .dataframe tbody tr th:only-of-type {\n",
       "        vertical-align: middle;\n",
       "    }\n",
       "\n",
       "    .dataframe tbody tr th {\n",
       "        vertical-align: top;\n",
       "    }\n",
       "\n",
       "    .dataframe thead th {\n",
       "        text-align: right;\n",
       "    }\n",
       "</style>\n",
       "<table border=\"1\" class=\"dataframe\">\n",
       "  <thead>\n",
       "    <tr style=\"text-align: right;\">\n",
       "      <th></th>\n",
       "      <th>DD</th>\n",
       "      <th>Withdrawals</th>\n",
       "      <th>Deposits</th>\n",
       "      <th>Branch_Area_sqft</th>\n",
       "      <th>Avg_Daily_Walkins</th>\n",
       "    </tr>\n",
       "  </thead>\n",
       "  <tbody>\n",
       "    <tr>\n",
       "      <th>0</th>\n",
       "      <td>0.24</td>\n",
       "      <td>-1.53</td>\n",
       "      <td>-1.38</td>\n",
       "      <td>-1.15</td>\n",
       "      <td>-0.26</td>\n",
       "    </tr>\n",
       "    <tr>\n",
       "      <th>1</th>\n",
       "      <td>1.04</td>\n",
       "      <td>-1.24</td>\n",
       "      <td>1.11</td>\n",
       "      <td>-0.92</td>\n",
       "      <td>-0.10</td>\n",
       "    </tr>\n",
       "    <tr>\n",
       "      <th>2</th>\n",
       "      <td>-0.31</td>\n",
       "      <td>-0.15</td>\n",
       "      <td>-0.85</td>\n",
       "      <td>-0.18</td>\n",
       "      <td>-1.12</td>\n",
       "    </tr>\n",
       "    <tr>\n",
       "      <th>3</th>\n",
       "      <td>1.38</td>\n",
       "      <td>-0.98</td>\n",
       "      <td>0.03</td>\n",
       "      <td>-1.21</td>\n",
       "      <td>-0.98</td>\n",
       "    </tr>\n",
       "    <tr>\n",
       "      <th>4</th>\n",
       "      <td>0.55</td>\n",
       "      <td>-0.68</td>\n",
       "      <td>-1.05</td>\n",
       "      <td>1.47</td>\n",
       "      <td>-0.90</td>\n",
       "    </tr>\n",
       "    <tr>\n",
       "      <th>...</th>\n",
       "      <td>...</td>\n",
       "      <td>...</td>\n",
       "      <td>...</td>\n",
       "      <td>...</td>\n",
       "      <td>...</td>\n",
       "    </tr>\n",
       "    <tr>\n",
       "      <th>995</th>\n",
       "      <td>-1.14</td>\n",
       "      <td>0.48</td>\n",
       "      <td>1.54</td>\n",
       "      <td>0.63</td>\n",
       "      <td>-0.59</td>\n",
       "    </tr>\n",
       "    <tr>\n",
       "      <th>996</th>\n",
       "      <td>-0.72</td>\n",
       "      <td>-0.64</td>\n",
       "      <td>-0.54</td>\n",
       "      <td>0.94</td>\n",
       "      <td>0.58</td>\n",
       "    </tr>\n",
       "    <tr>\n",
       "      <th>997</th>\n",
       "      <td>1.41</td>\n",
       "      <td>0.07</td>\n",
       "      <td>1.15</td>\n",
       "      <td>-1.21</td>\n",
       "      <td>0.45</td>\n",
       "    </tr>\n",
       "    <tr>\n",
       "      <th>998</th>\n",
       "      <td>-0.55</td>\n",
       "      <td>-0.02</td>\n",
       "      <td>0.36</td>\n",
       "      <td>-0.78</td>\n",
       "      <td>0.15</td>\n",
       "    </tr>\n",
       "    <tr>\n",
       "      <th>999</th>\n",
       "      <td>0.31</td>\n",
       "      <td>-0.07</td>\n",
       "      <td>-1.55</td>\n",
       "      <td>1.18</td>\n",
       "      <td>0.74</td>\n",
       "    </tr>\n",
       "  </tbody>\n",
       "</table>\n",
       "<p>1000 rows × 5 columns</p>\n",
       "</div>"
      ],
      "text/plain": [
       "       DD  Withdrawals  Deposits  Branch_Area_sqft  Avg_Daily_Walkins\n",
       "0    0.24        -1.53     -1.38             -1.15              -0.26\n",
       "1    1.04        -1.24      1.11             -0.92              -0.10\n",
       "2   -0.31        -0.15     -0.85             -0.18              -1.12\n",
       "3    1.38        -0.98      0.03             -1.21              -0.98\n",
       "4    0.55        -0.68     -1.05              1.47              -0.90\n",
       "..    ...          ...       ...               ...                ...\n",
       "995 -1.14         0.48      1.54              0.63              -0.59\n",
       "996 -0.72        -0.64     -0.54              0.94               0.58\n",
       "997  1.41         0.07      1.15             -1.21               0.45\n",
       "998 -0.55        -0.02      0.36             -0.78               0.15\n",
       "999  0.31        -0.07     -1.55              1.18               0.74\n",
       "\n",
       "[1000 rows x 5 columns]"
      ]
     },
     "execution_count": 47,
     "metadata": {},
     "output_type": "execute_result"
    }
   ],
   "source": [
    "scaled_df"
   ]
  },
  {
   "cell_type": "code",
   "execution_count": 49,
   "id": "1f9710b9",
   "metadata": {},
   "outputs": [],
   "source": [
    "#From the data we can use clustering techniques to cluster the data by similar points"
   ]
  },
  {
   "cell_type": "markdown",
   "id": "4eacf303",
   "metadata": {},
   "source": [
    "# Creating clusters using KMeans"
   ]
  },
  {
   "cell_type": "code",
   "execution_count": 52,
   "id": "419452d9",
   "metadata": {},
   "outputs": [],
   "source": [
    "from sklearn.cluster import KMeans"
   ]
  },
  {
   "cell_type": "code",
   "execution_count": 64,
   "id": "4a399150",
   "metadata": {},
   "outputs": [],
   "source": [
    "k_Means=KMeans(n_clusters=2,random_state=1)"
   ]
  },
  {
   "cell_type": "code",
   "execution_count": 65,
   "id": "f41c9eea",
   "metadata": {},
   "outputs": [
    {
     "data": {
      "text/plain": [
       "KMeans(n_clusters=2, random_state=1)"
      ]
     },
     "execution_count": 65,
     "metadata": {},
     "output_type": "execute_result"
    }
   ],
   "source": [
    "k_Means.fit(scaled_df)"
   ]
  },
  {
   "cell_type": "code",
   "execution_count": 66,
   "id": "90b08b92",
   "metadata": {},
   "outputs": [
    {
     "data": {
      "text/plain": [
       "array([0, 0, 0, 0, 0, 0, 0, 1, 0, 1, 0, 0, 0, 0, 1, 1, 1, 0, 0, 0, 1, 1,\n",
       "       1, 1, 1, 1, 0, 1, 1, 1, 0, 0, 1, 1, 1, 1, 0, 1, 0, 0, 0, 0, 0, 1,\n",
       "       0, 1, 0, 0, 0, 1, 1, 1, 1, 1, 0, 0, 0, 1, 1, 0, 1, 0, 1, 1, 1, 1,\n",
       "       1, 0, 1, 0, 0, 0, 1, 0, 1, 0, 0, 0, 0, 0, 1, 0, 0, 1, 0, 1, 0, 0,\n",
       "       1, 0, 1, 0, 0, 0, 1, 0, 0, 0, 0, 0, 0, 0, 0, 1, 0, 1, 0, 0, 0, 0,\n",
       "       1, 0, 0, 0, 1, 1, 1, 0, 1, 0, 1, 0, 0, 1, 0, 0, 0, 1, 0, 0, 0, 1,\n",
       "       0, 1, 1, 0, 1, 1, 1, 0, 0, 1, 0, 1, 1, 0, 0, 0, 0, 1, 1, 1, 0, 0,\n",
       "       0, 1, 1, 0, 0, 1, 0, 0, 1, 0, 0, 0, 0, 1, 1, 1, 0, 0, 1, 0, 0, 1,\n",
       "       0, 1, 1, 0, 0, 1, 1, 0, 1, 1, 1, 1, 0, 0, 0, 0, 1, 0, 1, 0, 0, 1,\n",
       "       1, 0, 1, 1, 1, 0, 0, 1, 0, 0, 0, 0, 0, 0, 0, 0, 1, 1, 0, 1, 1, 0,\n",
       "       0, 0, 1, 1, 1, 1, 0, 1, 1, 0, 0, 0, 0, 1, 1, 0, 0, 1, 1, 1, 0, 0,\n",
       "       1, 0, 0, 1, 1, 0, 1, 0, 1, 0, 1, 0, 0, 0, 1, 0, 1, 0, 1, 1, 1, 1,\n",
       "       1, 1, 0, 0, 0, 0, 0, 1, 1, 0, 0, 1, 0, 1, 0, 1, 1, 1, 0, 0, 1, 1,\n",
       "       1, 1, 1, 1, 0, 0, 0, 0, 0, 0, 0, 1, 0, 0, 1, 0, 1, 0, 0, 0, 0, 0,\n",
       "       1, 1, 1, 1, 1, 1, 1, 1, 0, 0, 0, 0, 1, 0, 0, 1, 1, 0, 0, 0, 1, 0,\n",
       "       0, 1, 0, 0, 0, 1, 1, 0, 0, 1, 0, 1, 1, 0, 1, 1, 1, 1, 0, 1, 0, 0,\n",
       "       0, 0, 1, 1, 1, 1, 1, 0, 0, 0, 0, 0, 0, 1, 1, 0, 0, 0, 1, 0, 1, 1,\n",
       "       0, 1, 0, 0, 1, 0, 0, 0, 0, 1, 1, 0, 1, 1, 0, 1, 1, 1, 0, 0, 0, 1,\n",
       "       1, 1, 0, 0, 0, 0, 1, 0, 1, 0, 1, 0, 0, 1, 0, 0, 1, 1, 1, 0, 0, 1,\n",
       "       0, 0, 1, 0, 0, 0, 0, 1, 0, 0, 0, 0, 1, 1, 1, 1, 1, 0, 1, 1, 0, 1,\n",
       "       1, 1, 1, 1, 0, 1, 1, 0, 0, 1, 1, 0, 1, 1, 1, 0, 1, 1, 0, 1, 0, 0,\n",
       "       0, 0, 0, 0, 1, 1, 1, 1, 0, 0, 1, 1, 0, 1, 0, 0, 1, 0, 0, 1, 0, 0,\n",
       "       1, 1, 1, 0, 0, 1, 0, 1, 0, 1, 0, 0, 0, 0, 0, 1, 0, 1, 0, 0, 0, 1,\n",
       "       1, 1, 0, 1, 1, 0, 1, 0, 1, 1, 1, 0, 1, 0, 1, 0, 1, 1, 1, 1, 1, 0,\n",
       "       0, 0, 1, 1, 0, 0, 1, 0, 0, 0, 1, 1, 0, 0, 0, 0, 0, 1, 1, 0, 1, 1,\n",
       "       0, 1, 0, 0, 0, 1, 0, 0, 1, 1, 0, 1, 1, 1, 1, 0, 1, 1, 0, 0, 1, 0,\n",
       "       1, 1, 1, 0, 0, 1, 0, 0, 0, 0, 0, 1, 0, 0, 1, 1, 1, 0, 0, 0, 1, 0,\n",
       "       1, 0, 1, 0, 1, 0, 0, 0, 1, 1, 0, 1, 0, 0, 1, 1, 1, 1, 1, 1, 0, 0,\n",
       "       1, 1, 0, 0, 1, 0, 0, 1, 0, 1, 1, 1, 1, 0, 0, 1, 0, 0, 0, 0, 1, 1,\n",
       "       0, 0, 1, 1, 1, 0, 0, 0, 0, 1, 1, 0, 1, 0, 0, 1, 0, 0, 1, 0, 1, 1,\n",
       "       0, 0, 0, 1, 0, 0, 1, 0, 0, 0, 0, 0, 0, 1, 1, 1, 1, 1, 1, 0, 1, 0,\n",
       "       1, 1, 0, 1, 1, 0, 0, 1, 0, 1, 1, 1, 0, 1, 1, 0, 1, 0, 1, 1, 1, 1,\n",
       "       0, 0, 0, 1, 0, 1, 1, 1, 1, 1, 1, 1, 1, 1, 0, 1, 0, 1, 1, 1, 1, 1,\n",
       "       0, 1, 1, 1, 1, 1, 0, 0, 1, 0, 0, 1, 1, 0, 0, 0, 0, 0, 0, 1, 1, 1,\n",
       "       0, 0, 0, 1, 0, 1, 0, 0, 0, 1, 0, 1, 0, 1, 1, 1, 0, 1, 0, 1, 1, 1,\n",
       "       1, 0, 0, 1, 0, 1, 0, 0, 1, 0, 1, 1, 0, 1, 1, 1, 0, 0, 1, 1, 1, 0,\n",
       "       1, 1, 0, 0, 1, 1, 1, 1, 0, 1, 0, 1, 0, 0, 0, 0, 1, 0, 1, 0, 1, 1,\n",
       "       0, 0, 1, 0, 1, 1, 1, 0, 1, 0, 1, 1, 1, 1, 0, 1, 1, 0, 1, 1, 1, 0,\n",
       "       1, 1, 1, 0, 1, 1, 1, 0, 0, 0, 0, 1, 0, 1, 0, 0, 0, 0, 0, 0, 1, 1,\n",
       "       0, 1, 0, 0, 0, 0, 1, 1, 0, 1, 1, 1, 1, 0, 0, 1, 0, 0, 0, 1, 1, 0,\n",
       "       0, 0, 1, 1, 1, 0, 0, 1, 1, 0, 0, 1, 1, 1, 0, 0, 0, 1, 0, 0, 1, 0,\n",
       "       0, 0, 1, 0, 0, 0, 0, 1, 0, 0, 1, 1, 0, 0, 0, 0, 1, 1, 0, 0, 1, 0,\n",
       "       0, 1, 1, 1, 0, 0, 0, 1, 1, 1, 0, 1, 0, 0, 0, 0, 0, 1, 0, 0, 1, 1,\n",
       "       1, 1, 0, 1, 1, 0, 0, 0, 1, 1, 1, 0, 1, 1, 1, 1, 0, 1, 0, 1, 0, 1,\n",
       "       1, 0, 0, 1, 1, 1, 0, 1, 1, 0, 1, 0, 0, 1, 1, 1, 1, 1, 0, 1, 0, 0,\n",
       "       1, 1, 1, 1, 1, 1, 0, 1, 1, 0])"
      ]
     },
     "execution_count": 66,
     "metadata": {},
     "output_type": "execute_result"
    }
   ],
   "source": [
    "k_Means.labels_"
   ]
  },
  {
   "cell_type": "code",
   "execution_count": 69,
   "id": "432124f3",
   "metadata": {},
   "outputs": [
    {
     "data": {
      "text/plain": [
       "4237.56"
      ]
     },
     "execution_count": 69,
     "metadata": {},
     "output_type": "execute_result"
    }
   ],
   "source": [
    "round(k_Means.inertia_,2)"
   ]
  },
  {
   "cell_type": "raw",
   "id": "35f9f9ac",
   "metadata": {},
   "source": [
    "SSW(inertia) is high therefore the clusters need to be increased where the k_means need to be tightly packed clusters"
   ]
  },
  {
   "cell_type": "code",
   "execution_count": 106,
   "id": "fcffeca0",
   "metadata": {},
   "outputs": [],
   "source": [
    "k_means = KMeans(n_clusters=3, random_state=1)\n",
    "k_means.fit(scaled_df)\n",
    "round(k_means.inertia_, 2)\n",
    "labels=k_means.labels_"
   ]
  },
  {
   "cell_type": "markdown",
   "id": "ec05759a",
   "metadata": {},
   "source": [
    "# Cluster evaluation using Silhouette score "
   ]
  },
  {
   "cell_type": "code",
   "execution_count": 107,
   "id": "a763ff66",
   "metadata": {},
   "outputs": [],
   "source": [
    "from sklearn.metrics import silhouette_samples,silhouette_score"
   ]
  },
  {
   "cell_type": "code",
   "execution_count": 108,
   "id": "612849f3",
   "metadata": {},
   "outputs": [
    {
     "data": {
      "text/plain": [
       "0.14396461674622457"
      ]
     },
     "execution_count": 108,
     "metadata": {},
     "output_type": "execute_result"
    }
   ],
   "source": [
    "silhouette_score(scaled_df,labels,random_state=1)"
   ]
  },
  {
   "cell_type": "code",
   "execution_count": 123,
   "id": "0e94d55a",
   "metadata": {},
   "outputs": [
    {
     "name": "stdout",
     "output_type": "stream",
     "text": [
      "For 4 clusters, the silhouette score is: 0.16\n",
      "For 5 clusters, the silhouette score is: 0.16\n"
     ]
    }
   ],
   "source": [
    "from sklearn.cluster import KMeans\n",
    "from sklearn.metrics import silhouette_score\n",
    "\n",
    "# Assuming scaled_df is your dataset\n",
    "k_values = [4, 5]  # List of number of clusters to evaluate\n",
    "for k in k_values:\n",
    "    k_means = KMeans(n_clusters=k, random_state=1)\n",
    "    k_means.fit(scaled_df)\n",
    "    labels = k_means.labels_\n",
    "    silhouette_avg = silhouette_score(scaled_df, labels)\n",
    "    print(f\"For {k} clusters, the silhouette score is: {silhouette_avg:.2f}\")\n"
   ]
  },
  {
   "cell_type": "code",
   "execution_count": 119,
   "id": "aba28f2d",
   "metadata": {},
   "outputs": [
    {
     "data": {
      "text/plain": [
       "0.14396461674622457"
      ]
     },
     "execution_count": 119,
     "metadata": {},
     "output_type": "execute_result"
    }
   ],
   "source": [
    "silhouette_score(scaled_df,labels1,random_state=1)"
   ]
  },
  {
   "cell_type": "code",
   "execution_count": 122,
   "id": "e9a4ce9a",
   "metadata": {},
   "outputs": [
    {
     "data": {
      "text/plain": [
       "0.14396461674622457"
      ]
     },
     "execution_count": 122,
     "metadata": {},
     "output_type": "execute_result"
    }
   ],
   "source": [
    "silhouette_score(scaled_df,labels2,random_state=1)"
   ]
  },
  {
   "cell_type": "code",
   "execution_count": 127,
   "id": "5012f82d",
   "metadata": {},
   "outputs": [],
   "source": [
    "#The perfect clusters lies between the 4 and 5 which is optimal"
   ]
  },
  {
   "cell_type": "code",
   "execution_count": null,
   "id": "1510fb87",
   "metadata": {},
   "outputs": [],
   "source": []
  }
 ],
 "metadata": {
  "kernelspec": {
   "display_name": "Python 3 (ipykernel)",
   "language": "python",
   "name": "python3"
  },
  "language_info": {
   "codemirror_mode": {
    "name": "ipython",
    "version": 3
   },
   "file_extension": ".py",
   "mimetype": "text/x-python",
   "name": "python",
   "nbconvert_exporter": "python",
   "pygments_lexer": "ipython3",
   "version": "3.9.13"
  }
 },
 "nbformat": 4,
 "nbformat_minor": 5
}
